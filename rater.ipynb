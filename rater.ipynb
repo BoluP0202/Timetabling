{
 "cells": [
  {
   "cell_type": "code",
   "execution_count": 1,
   "id": "026d9b3b-a8c4-4ffd-ac0d-7b706f33d86b",
   "metadata": {},
   "outputs": [],
   "source": [
    "import pandas as pd\n",
    "import numpy as np\n",
    "import Rating as rt\n",
    "from Rating import Subject\n",
    "samp = pd.read_csv('csv/sample.csv')"
   ]
  },
  {
   "cell_type": "code",
   "execution_count": 2,
   "id": "034bf068-f5d5-4928-9bf9-3579cb3e297a",
   "metadata": {},
   "outputs": [
    {
     "data": {
      "text/html": [
       "<div>\n",
       "<style scoped>\n",
       "    .dataframe tbody tr th:only-of-type {\n",
       "        vertical-align: middle;\n",
       "    }\n",
       "\n",
       "    .dataframe tbody tr th {\n",
       "        vertical-align: top;\n",
       "    }\n",
       "\n",
       "    .dataframe thead th {\n",
       "        text-align: right;\n",
       "    }\n",
       "</style>\n",
       "<table border=\"1\" class=\"dataframe\">\n",
       "  <thead>\n",
       "    <tr style=\"text-align: right;\">\n",
       "      <th></th>\n",
       "      <th>index</th>\n",
       "      <th>Code</th>\n",
       "      <th>Courses</th>\n",
       "      <th>Units</th>\n",
       "      <th>TIME</th>\n",
       "      <th>M</th>\n",
       "      <th>TU</th>\n",
       "      <th>W</th>\n",
       "      <th>TH</th>\n",
       "      <th>F</th>\n",
       "    </tr>\n",
       "  </thead>\n",
       "  <tbody>\n",
       "    <tr>\n",
       "      <th>0</th>\n",
       "      <td>0</td>\n",
       "      <td>ISM 203</td>\n",
       "      <td>Applied Computer Graphics</td>\n",
       "      <td>3</td>\n",
       "      <td>9-10AM</td>\n",
       "      <td>ISM 210  - Lab 2</td>\n",
       "      <td>-</td>\n",
       "      <td>GST 204 - ZARIA</td>\n",
       "      <td>Za - ENT 202</td>\n",
       "      <td>Lab 2 - ISM 204</td>\n",
       "    </tr>\n",
       "    <tr>\n",
       "      <th>1</th>\n",
       "      <td>1</td>\n",
       "      <td>ISM 204</td>\n",
       "      <td>Introduction to Image Processing &amp; Application</td>\n",
       "      <td>3</td>\n",
       "      <td>10-11AM</td>\n",
       "      <td>ISM 210  - Lab 2</td>\n",
       "      <td>-</td>\n",
       "      <td>ISM 212 - ZARIA</td>\n",
       "      <td>Za- ENT 202</td>\n",
       "      <td>Lab 2 - ISM 204</td>\n",
       "    </tr>\n",
       "    <tr>\n",
       "      <th>2</th>\n",
       "      <td>2</td>\n",
       "      <td>ISM 206</td>\n",
       "      <td>Introduction to Multimedia Scripting</td>\n",
       "      <td>3</td>\n",
       "      <td>11-12PM</td>\n",
       "      <td>GST 204 - ZARIA</td>\n",
       "      <td>GST 203 - ZARIA</td>\n",
       "      <td>ISM 212 - ZARIA</td>\n",
       "      <td>-</td>\n",
       "      <td>Lab 2 - ISM 204</td>\n",
       "    </tr>\n",
       "    <tr>\n",
       "      <th>3</th>\n",
       "      <td>3</td>\n",
       "      <td>ISM 208</td>\n",
       "      <td>Multimedia Database System</td>\n",
       "      <td>2</td>\n",
       "      <td>12-1PM</td>\n",
       "      <td>GST 204 - ZARIA</td>\n",
       "      <td>GST 203 - ZARIA</td>\n",
       "      <td>-</td>\n",
       "      <td>ISM 210  - Lab 2</td>\n",
       "      <td>ISM 206 - Lab 2</td>\n",
       "    </tr>\n",
       "    <tr>\n",
       "      <th>4</th>\n",
       "      <td>4</td>\n",
       "      <td>ISM 210</td>\n",
       "      <td>Mobile-Based Technologies and Multimedia</td>\n",
       "      <td>3</td>\n",
       "      <td>1-2PM</td>\n",
       "      <td>-</td>\n",
       "      <td>-</td>\n",
       "      <td>-</td>\n",
       "      <td>-</td>\n",
       "      <td>-</td>\n",
       "    </tr>\n",
       "    <tr>\n",
       "      <th>5</th>\n",
       "      <td>5</td>\n",
       "      <td>ISM 212</td>\n",
       "      <td>Statistics and Probabilities</td>\n",
       "      <td>2</td>\n",
       "      <td>2-3PM</td>\n",
       "      <td>-</td>\n",
       "      <td>ISM 203  - Lab 2</td>\n",
       "      <td>ISM 208  - Lab 2</td>\n",
       "      <td>-</td>\n",
       "      <td>ISM 206 - Lab 2</td>\n",
       "    </tr>\n",
       "    <tr>\n",
       "      <th>6</th>\n",
       "      <td>6</td>\n",
       "      <td>GST 204</td>\n",
       "      <td>Peace Studies, Conflict Resolution and General...</td>\n",
       "      <td>3</td>\n",
       "      <td>3-4PM</td>\n",
       "      <td>-</td>\n",
       "      <td>ISM 203  - Lab 2</td>\n",
       "      <td>ISM 208  - Lab 2</td>\n",
       "      <td>-</td>\n",
       "      <td>ISM 206 - Lab 2</td>\n",
       "    </tr>\n",
       "    <tr>\n",
       "      <th>7</th>\n",
       "      <td>7</td>\n",
       "      <td>GST 203</td>\n",
       "      <td>Communication in English IV</td>\n",
       "      <td>2</td>\n",
       "      <td>4-5PM</td>\n",
       "      <td>-</td>\n",
       "      <td>ISM 203  - Lab 2</td>\n",
       "      <td>-</td>\n",
       "      <td>ISM 210  - Lab 2</td>\n",
       "      <td>-</td>\n",
       "    </tr>\n",
       "    <tr>\n",
       "      <th>8</th>\n",
       "      <td>8</td>\n",
       "      <td>ENT 202</td>\n",
       "      <td>Entrepreneurship II</td>\n",
       "      <td>2</td>\n",
       "      <td>5-6PM</td>\n",
       "      <td>-</td>\n",
       "      <td>-</td>\n",
       "      <td>-</td>\n",
       "      <td>-</td>\n",
       "      <td>-</td>\n",
       "    </tr>\n",
       "  </tbody>\n",
       "</table>\n",
       "</div>"
      ],
      "text/plain": [
       "   index     Code                                            Courses  Units  \\\n",
       "0      0  ISM 203                          Applied Computer Graphics      3   \n",
       "1      1  ISM 204     Introduction to Image Processing & Application      3   \n",
       "2      2  ISM 206              Introduction to Multimedia Scripting       3   \n",
       "3      3  ISM 208                         Multimedia Database System      2   \n",
       "4      4  ISM 210           Mobile-Based Technologies and Multimedia      3   \n",
       "5      5  ISM 212                       Statistics and Probabilities      2   \n",
       "6      6  GST 204  Peace Studies, Conflict Resolution and General...      3   \n",
       "7      7  GST 203                      Communication in English IV        2   \n",
       "8      8  ENT 202                                Entrepreneurship II      2   \n",
       "\n",
       "      TIME                 M                TU                 W  \\\n",
       "0   9-10AM  ISM 210  - Lab 2                 -   GST 204 - ZARIA   \n",
       "1  10-11AM  ISM 210  - Lab 2                 -   ISM 212 - ZARIA   \n",
       "2  11-12PM   GST 204 - ZARIA   GST 203 - ZARIA   ISM 212 - ZARIA   \n",
       "3   12-1PM   GST 204 - ZARIA   GST 203 - ZARIA                 -   \n",
       "4    1-2PM                 -                 -                 -   \n",
       "5    2-3PM                 -  ISM 203  - Lab 2  ISM 208  - Lab 2   \n",
       "6    3-4PM                 -  ISM 203  - Lab 2  ISM 208  - Lab 2   \n",
       "7    4-5PM                 -  ISM 203  - Lab 2                 -   \n",
       "8    5-6PM                 -                 -                 -   \n",
       "\n",
       "                 TH                 F  \n",
       "0      Za - ENT 202  Lab 2 - ISM 204   \n",
       "1       Za- ENT 202  Lab 2 - ISM 204   \n",
       "2                 -  Lab 2 - ISM 204   \n",
       "3  ISM 210  - Lab 2   ISM 206 - Lab 2  \n",
       "4                 -                 -  \n",
       "5                 -   ISM 206 - Lab 2  \n",
       "6                 -   ISM 206 - Lab 2  \n",
       "7  ISM 210  - Lab 2                 -  \n",
       "8                 -                 -  "
      ]
     },
     "execution_count": 2,
     "metadata": {},
     "output_type": "execute_result"
    }
   ],
   "source": [
    "samp"
   ]
  },
  {
   "cell_type": "code",
   "execution_count": 3,
   "id": "1e439d15-e767-4d5e-a2be-0d55980e0ea5",
   "metadata": {},
   "outputs": [],
   "source": [
    "subjects = rt.subjects_to_object_list(samp)"
   ]
  },
  {
   "cell_type": "code",
   "execution_count": 4,
   "id": "86abace0-39b9-446e-b61a-8d73d4a63d66",
   "metadata": {},
   "outputs": [],
   "source": [
    "no_courses = len(subjects)"
   ]
  },
  {
   "cell_type": "code",
   "execution_count": 5,
   "id": "7f824f5b-e3bc-47bd-b60b-e0c68004eb18",
   "metadata": {},
   "outputs": [],
   "source": [
    "earlies = rt.check_early(samp)"
   ]
  },
  {
   "cell_type": "code",
   "execution_count": 6,
   "id": "ef1d7c2d-946a-440f-88b6-fed5fb5f9f78",
   "metadata": {},
   "outputs": [],
   "source": [
    "total_sessions = rt.count_total(subjects)"
   ]
  },
  {
   "cell_type": "code",
   "execution_count": 7,
   "id": "2f7a648d-c902-475b-8042-8219d64779df",
   "metadata": {},
   "outputs": [],
   "source": [
    "x, y = rt.check_late(samp)"
   ]
  },
  {
   "cell_type": "code",
   "execution_count": 8,
   "id": "e0a7e5fd-334e-4f80-a08e-0abc86a4723e",
   "metadata": {},
   "outputs": [],
   "source": [
    "latepday = x/len(y)"
   ]
  },
  {
   "cell_type": "code",
   "execution_count": 9,
   "id": "9e895fd8-66fc-4ddd-ac38-c16c03ed4031",
   "metadata": {},
   "outputs": [],
   "source": [
    "popday = 5 - rt.check_freeday(samp)"
   ]
  },
  {
   "cell_type": "code",
   "execution_count": 10,
   "id": "8ebdd670-4c92-40a5-8674-f461e10d8f63",
   "metadata": {},
   "outputs": [],
   "source": [
    "import re"
   ]
  },
  {
   "cell_type": "code",
   "execution_count": 11,
   "id": "f8d3c320-392a-4fa8-884c-3c0515660726",
   "metadata": {},
   "outputs": [
    {
     "name": "stdout",
     "output_type": "stream",
     "text": [
      "hi\n"
     ]
    }
   ],
   "source": [
    "if re.findall(r\"[^-]\", '-') == []:\n",
    "    print('hi')"
   ]
  },
  {
   "cell_type": "code",
   "execution_count": 12,
   "id": "418ffc1e-03e3-47f6-93e0-71b3f5610c83",
   "metadata": {},
   "outputs": [],
   "source": [
    "total_breaks, break_no, break_list = rt.check_breaks(samp)"
   ]
  },
  {
   "cell_type": "code",
   "execution_count": 14,
   "id": "f171e59d-9455-4e83-a01c-3fcadec44737",
   "metadata": {},
   "outputs": [],
   "source": [
    "tot_block, blocks = rt.check_blocks(samp)"
   ]
  },
  {
   "cell_type": "code",
   "execution_count": 15,
   "id": "a2761e6d-29b4-456a-8186-0bdd55fb6cc1",
   "metadata": {},
   "outputs": [],
   "source": [
    "largest_block = max(blocks)"
   ]
  },
  {
   "cell_type": "code",
   "execution_count": 16,
   "id": "e2eb9028-3843-4bfb-abbb-674b8e468fef",
   "metadata": {},
   "outputs": [],
   "source": [
    "no_blocks = len(blocks)\n",
    "blockpday = tot_block/popday\n"
   ]
  },
  {
   "cell_type": "code",
   "execution_count": null,
   "id": "cf6c01f3-8ffd-4315-b974-c5300d9326f2",
   "metadata": {},
   "outputs": [],
   "source": []
  }
 ],
 "metadata": {
  "kernelspec": {
   "display_name": "Python 3 (ipykernel)",
   "language": "python",
   "name": "python3"
  },
  "language_info": {
   "codemirror_mode": {
    "name": "ipython",
    "version": 3
   },
   "file_extension": ".py",
   "mimetype": "text/x-python",
   "name": "python",
   "nbconvert_exporter": "python",
   "pygments_lexer": "ipython3",
   "version": "3.12.2"
  }
 },
 "nbformat": 4,
 "nbformat_minor": 5
}
